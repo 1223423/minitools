{
 "cells": [
  {
   "cell_type": "code",
   "execution_count": 18,
   "id": "a69c8a40-7ed9-40de-a5f1-1d66a18a65a5",
   "metadata": {
    "tags": []
   },
   "outputs": [
    {
     "name": "stderr",
     "output_type": "stream",
     "text": [
      "100%|██████████| 3275/3275 [00:01<00:00, 3219.44it/s]\n"
     ]
    }
   ],
   "source": [
    "from PIL import Image\n",
    "import numpy as np\n",
    "import os\n",
    "from tqdm import tqdm\n",
    "from glob import glob\n",
    "\n",
    "#This script deletes all images in targets where overlap_area is identical\n",
    "# to the overlap_area in the reference image\n",
    "\n",
    "\n",
    "reference_img = './example/2.png'\n",
    "targets = './example/*.png'\n",
    "overlap_area = (0,0,43,4)\n",
    "\n",
    "reference = np.array(Image.open(reference_img).convert('RGBA').crop(overlap_area))\n",
    "\n",
    "removed = []\n",
    "for t in tqdm(glob(targets)):\n",
    "    target = np.array(Image.open(t).convert('RGBA').crop(overlap_area))\n",
    "    target_top = target\n",
    "    if np.array_equal(target,reference):\n",
    "        os.remove(t)\n",
    "        removed.append(t)\n",
    "        \n"
   ]
  },
  {
   "cell_type": "code",
   "execution_count": 19,
   "id": "882461d8-6cec-4782-9156-61ca76e9b486",
   "metadata": {
    "tags": []
   },
   "outputs": [
    {
     "name": "stdout",
     "output_type": "stream",
     "text": [
      "Removed 1064 target images\n"
     ]
    }
   ],
   "source": [
    "print(f'Removed {len(removed)} target images')"
   ]
  },
  {
   "cell_type": "code",
   "execution_count": null,
   "id": "9de76ab6-5148-4f39-9b96-c7433d8c45bc",
   "metadata": {},
   "outputs": [],
   "source": []
  }
 ],
 "metadata": {
  "kernelspec": {
   "display_name": "Python 3 (ipykernel)",
   "language": "python",
   "name": "python3"
  },
  "language_info": {
   "codemirror_mode": {
    "name": "ipython",
    "version": 3
   },
   "file_extension": ".py",
   "mimetype": "text/x-python",
   "name": "python",
   "nbconvert_exporter": "python",
   "pygments_lexer": "ipython3",
   "version": "3.8.5"
  }
 },
 "nbformat": 4,
 "nbformat_minor": 5
}
